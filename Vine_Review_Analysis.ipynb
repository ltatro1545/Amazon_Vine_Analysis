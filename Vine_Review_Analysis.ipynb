{
 "cells": [
  {
   "cell_type": "markdown",
   "id": "791efb8b",
   "metadata": {},
   "source": [
    "# Deliverable 2\n",
    "Using your knowledge of PySpark, Pandas, or SQL, you’ll determine if there is any bias towards reviews that were written as part of the Vine program. For this analysis, you'll determine if having a paid Vine review makes a difference in the percentage of 5-star reviews."
   ]
  },
  {
   "cell_type": "code",
   "execution_count": 1,
   "id": "4af7cd9e",
   "metadata": {},
   "outputs": [],
   "source": [
    "import pandas as pd"
   ]
  },
  {
   "cell_type": "code",
   "execution_count": 2,
   "id": "62708c95",
   "metadata": {},
   "outputs": [
    {
     "data": {
      "text/html": [
       "<div>\n",
       "<style scoped>\n",
       "    .dataframe tbody tr th:only-of-type {\n",
       "        vertical-align: middle;\n",
       "    }\n",
       "\n",
       "    .dataframe tbody tr th {\n",
       "        vertical-align: top;\n",
       "    }\n",
       "\n",
       "    .dataframe thead th {\n",
       "        text-align: right;\n",
       "    }\n",
       "</style>\n",
       "<table border=\"1\" class=\"dataframe\">\n",
       "  <thead>\n",
       "    <tr style=\"text-align: right;\">\n",
       "      <th></th>\n",
       "      <th>review_id</th>\n",
       "      <th>star_rating</th>\n",
       "      <th>helpful_votes</th>\n",
       "      <th>total_votes</th>\n",
       "      <th>vine</th>\n",
       "      <th>verified_purchase</th>\n",
       "    </tr>\n",
       "  </thead>\n",
       "  <tbody>\n",
       "    <tr>\n",
       "      <th>0</th>\n",
       "      <td>R35T75OLUGHL5C</td>\n",
       "      <td>4.0</td>\n",
       "      <td>0.0</td>\n",
       "      <td>0.0</td>\n",
       "      <td>N</td>\n",
       "      <td>Y</td>\n",
       "    </tr>\n",
       "    <tr>\n",
       "      <th>1</th>\n",
       "      <td>R2BV735O46BN33</td>\n",
       "      <td>5.0</td>\n",
       "      <td>0.0</td>\n",
       "      <td>0.0</td>\n",
       "      <td>N</td>\n",
       "      <td>Y</td>\n",
       "    </tr>\n",
       "    <tr>\n",
       "      <th>2</th>\n",
       "      <td>R2NBEUGPQQGXP1</td>\n",
       "      <td>4.0</td>\n",
       "      <td>0.0</td>\n",
       "      <td>0.0</td>\n",
       "      <td>N</td>\n",
       "      <td>Y</td>\n",
       "    </tr>\n",
       "    <tr>\n",
       "      <th>3</th>\n",
       "      <td>R17LLAOJ8ITK0S</td>\n",
       "      <td>3.0</td>\n",
       "      <td>1.0</td>\n",
       "      <td>1.0</td>\n",
       "      <td>N</td>\n",
       "      <td>Y</td>\n",
       "    </tr>\n",
       "    <tr>\n",
       "      <th>4</th>\n",
       "      <td>R39PEQBT5ISEF4</td>\n",
       "      <td>1.0</td>\n",
       "      <td>0.0</td>\n",
       "      <td>0.0</td>\n",
       "      <td>N</td>\n",
       "      <td>Y</td>\n",
       "    </tr>\n",
       "    <tr>\n",
       "      <th>...</th>\n",
       "      <td>...</td>\n",
       "      <td>...</td>\n",
       "      <td>...</td>\n",
       "      <td>...</td>\n",
       "      <td>...</td>\n",
       "      <td>...</td>\n",
       "    </tr>\n",
       "    <tr>\n",
       "      <th>2302396</th>\n",
       "      <td>R2LQD2IV5ZWF7G</td>\n",
       "      <td>5.0</td>\n",
       "      <td>34.0</td>\n",
       "      <td>35.0</td>\n",
       "      <td>N</td>\n",
       "      <td>N</td>\n",
       "    </tr>\n",
       "    <tr>\n",
       "      <th>2302397</th>\n",
       "      <td>R2XLPTZ391M3PM</td>\n",
       "      <td>5.0</td>\n",
       "      <td>165.0</td>\n",
       "      <td>167.0</td>\n",
       "      <td>N</td>\n",
       "      <td>N</td>\n",
       "    </tr>\n",
       "    <tr>\n",
       "      <th>2302398</th>\n",
       "      <td>R1BRPTHYOJF9NC</td>\n",
       "      <td>5.0</td>\n",
       "      <td>30.0</td>\n",
       "      <td>32.0</td>\n",
       "      <td>N</td>\n",
       "      <td>N</td>\n",
       "    </tr>\n",
       "    <tr>\n",
       "      <th>2302399</th>\n",
       "      <td>R3LJVE6YICJOHI</td>\n",
       "      <td>5.0</td>\n",
       "      <td>28.0</td>\n",
       "      <td>31.0</td>\n",
       "      <td>N</td>\n",
       "      <td>N</td>\n",
       "    </tr>\n",
       "    <tr>\n",
       "      <th>2302400</th>\n",
       "      <td>RPJDYNNK1AMKT</td>\n",
       "      <td>5.0</td>\n",
       "      <td>0.0</td>\n",
       "      <td>0.0</td>\n",
       "      <td>N</td>\n",
       "      <td>N</td>\n",
       "    </tr>\n",
       "  </tbody>\n",
       "</table>\n",
       "<p>2302401 rows × 6 columns</p>\n",
       "</div>"
      ],
      "text/plain": [
       "              review_id  star_rating  helpful_votes  total_votes vine  \\\n",
       "0        R35T75OLUGHL5C          4.0            0.0          0.0    N   \n",
       "1        R2BV735O46BN33          5.0            0.0          0.0    N   \n",
       "2        R2NBEUGPQQGXP1          4.0            0.0          0.0    N   \n",
       "3        R17LLAOJ8ITK0S          3.0            1.0          1.0    N   \n",
       "4        R39PEQBT5ISEF4          1.0            0.0          0.0    N   \n",
       "...                 ...          ...            ...          ...  ...   \n",
       "2302396  R2LQD2IV5ZWF7G          5.0           34.0         35.0    N   \n",
       "2302397  R2XLPTZ391M3PM          5.0          165.0        167.0    N   \n",
       "2302398  R1BRPTHYOJF9NC          5.0           30.0         32.0    N   \n",
       "2302399  R3LJVE6YICJOHI          5.0           28.0         31.0    N   \n",
       "2302400   RPJDYNNK1AMKT          5.0            0.0          0.0    N   \n",
       "\n",
       "        verified_purchase  \n",
       "0                       Y  \n",
       "1                       Y  \n",
       "2                       Y  \n",
       "3                       Y  \n",
       "4                       Y  \n",
       "...                   ...  \n",
       "2302396                 N  \n",
       "2302397                 N  \n",
       "2302398                 N  \n",
       "2302399                 N  \n",
       "2302400                 N  \n",
       "\n",
       "[2302401 rows x 6 columns]"
      ]
     },
     "execution_count": 2,
     "metadata": {},
     "output_type": "execute_result"
    }
   ],
   "source": [
    "# file exported as csv file from pgAdmin\n",
    "df = pd.read_csv(\"Data/vine_table.csv\")\n",
    "df"
   ]
  },
  {
   "cell_type": "code",
   "execution_count": 3,
   "id": "050db6d2",
   "metadata": {},
   "outputs": [
    {
     "data": {
      "text/html": [
       "<div>\n",
       "<style scoped>\n",
       "    .dataframe tbody tr th:only-of-type {\n",
       "        vertical-align: middle;\n",
       "    }\n",
       "\n",
       "    .dataframe tbody tr th {\n",
       "        vertical-align: top;\n",
       "    }\n",
       "\n",
       "    .dataframe thead th {\n",
       "        text-align: right;\n",
       "    }\n",
       "</style>\n",
       "<table border=\"1\" class=\"dataframe\">\n",
       "  <thead>\n",
       "    <tr style=\"text-align: right;\">\n",
       "      <th></th>\n",
       "      <th>review_id</th>\n",
       "      <th>star_rating</th>\n",
       "      <th>helpful_votes</th>\n",
       "      <th>total_votes</th>\n",
       "      <th>vine</th>\n",
       "      <th>verified_purchase</th>\n",
       "    </tr>\n",
       "  </thead>\n",
       "  <tbody>\n",
       "    <tr>\n",
       "      <th>65</th>\n",
       "      <td>R2FP3U4NHNFNL2</td>\n",
       "      <td>5.0</td>\n",
       "      <td>25.0</td>\n",
       "      <td>29.0</td>\n",
       "      <td>N</td>\n",
       "      <td>Y</td>\n",
       "    </tr>\n",
       "    <tr>\n",
       "      <th>159</th>\n",
       "      <td>R1UUK1977O38MU</td>\n",
       "      <td>5.0</td>\n",
       "      <td>31.0</td>\n",
       "      <td>31.0</td>\n",
       "      <td>N</td>\n",
       "      <td>Y</td>\n",
       "    </tr>\n",
       "    <tr>\n",
       "      <th>603</th>\n",
       "      <td>RXO216LWUDV6O</td>\n",
       "      <td>3.0</td>\n",
       "      <td>29.0</td>\n",
       "      <td>31.0</td>\n",
       "      <td>N</td>\n",
       "      <td>Y</td>\n",
       "    </tr>\n",
       "    <tr>\n",
       "      <th>655</th>\n",
       "      <td>R3NMJF7EBMM19V</td>\n",
       "      <td>3.0</td>\n",
       "      <td>26.0</td>\n",
       "      <td>27.0</td>\n",
       "      <td>N</td>\n",
       "      <td>Y</td>\n",
       "    </tr>\n",
       "    <tr>\n",
       "      <th>935</th>\n",
       "      <td>R2ZY0ZBDUO0XUY</td>\n",
       "      <td>3.0</td>\n",
       "      <td>20.0</td>\n",
       "      <td>21.0</td>\n",
       "      <td>N</td>\n",
       "      <td>Y</td>\n",
       "    </tr>\n",
       "  </tbody>\n",
       "</table>\n",
       "</div>"
      ],
      "text/plain": [
       "          review_id  star_rating  helpful_votes  total_votes vine  \\\n",
       "65   R2FP3U4NHNFNL2          5.0           25.0         29.0    N   \n",
       "159  R1UUK1977O38MU          5.0           31.0         31.0    N   \n",
       "603   RXO216LWUDV6O          3.0           29.0         31.0    N   \n",
       "655  R3NMJF7EBMM19V          3.0           26.0         27.0    N   \n",
       "935  R2ZY0ZBDUO0XUY          3.0           20.0         21.0    N   \n",
       "\n",
       "    verified_purchase  \n",
       "65                  Y  \n",
       "159                 Y  \n",
       "603                 Y  \n",
       "655                 Y  \n",
       "935                 Y  "
      ]
     },
     "execution_count": 3,
     "metadata": {},
     "output_type": "execute_result"
    }
   ],
   "source": [
    "# filter df to only include reviews with 20 or more total_votes\n",
    "high_vote_df = df[df[\"total_votes\"] >= 20]\n",
    "high_vote_df.head()"
   ]
  },
  {
   "cell_type": "code",
   "execution_count": 7,
   "id": "ed0e0b8e",
   "metadata": {},
   "outputs": [
    {
     "data": {
      "text/html": [
       "<div>\n",
       "<style scoped>\n",
       "    .dataframe tbody tr th:only-of-type {\n",
       "        vertical-align: middle;\n",
       "    }\n",
       "\n",
       "    .dataframe tbody tr th {\n",
       "        vertical-align: top;\n",
       "    }\n",
       "\n",
       "    .dataframe thead th {\n",
       "        text-align: right;\n",
       "    }\n",
       "</style>\n",
       "<table border=\"1\" class=\"dataframe\">\n",
       "  <thead>\n",
       "    <tr style=\"text-align: right;\">\n",
       "      <th></th>\n",
       "      <th>review_id</th>\n",
       "      <th>star_rating</th>\n",
       "      <th>helpful_votes</th>\n",
       "      <th>total_votes</th>\n",
       "      <th>vine</th>\n",
       "      <th>verified_purchase</th>\n",
       "    </tr>\n",
       "  </thead>\n",
       "  <tbody>\n",
       "    <tr>\n",
       "      <th>65</th>\n",
       "      <td>R2FP3U4NHNFNL2</td>\n",
       "      <td>5.0</td>\n",
       "      <td>25.0</td>\n",
       "      <td>29.0</td>\n",
       "      <td>N</td>\n",
       "      <td>Y</td>\n",
       "    </tr>\n",
       "    <tr>\n",
       "      <th>159</th>\n",
       "      <td>R1UUK1977O38MU</td>\n",
       "      <td>5.0</td>\n",
       "      <td>31.0</td>\n",
       "      <td>31.0</td>\n",
       "      <td>N</td>\n",
       "      <td>Y</td>\n",
       "    </tr>\n",
       "    <tr>\n",
       "      <th>603</th>\n",
       "      <td>RXO216LWUDV6O</td>\n",
       "      <td>3.0</td>\n",
       "      <td>29.0</td>\n",
       "      <td>31.0</td>\n",
       "      <td>N</td>\n",
       "      <td>Y</td>\n",
       "    </tr>\n",
       "    <tr>\n",
       "      <th>655</th>\n",
       "      <td>R3NMJF7EBMM19V</td>\n",
       "      <td>3.0</td>\n",
       "      <td>26.0</td>\n",
       "      <td>27.0</td>\n",
       "      <td>N</td>\n",
       "      <td>Y</td>\n",
       "    </tr>\n",
       "    <tr>\n",
       "      <th>935</th>\n",
       "      <td>R2ZY0ZBDUO0XUY</td>\n",
       "      <td>3.0</td>\n",
       "      <td>20.0</td>\n",
       "      <td>21.0</td>\n",
       "      <td>N</td>\n",
       "      <td>Y</td>\n",
       "    </tr>\n",
       "  </tbody>\n",
       "</table>\n",
       "</div>"
      ],
      "text/plain": [
       "          review_id  star_rating  helpful_votes  total_votes vine  \\\n",
       "65   R2FP3U4NHNFNL2          5.0           25.0         29.0    N   \n",
       "159  R1UUK1977O38MU          5.0           31.0         31.0    N   \n",
       "603   RXO216LWUDV6O          3.0           29.0         31.0    N   \n",
       "655  R3NMJF7EBMM19V          3.0           26.0         27.0    N   \n",
       "935  R2ZY0ZBDUO0XUY          3.0           20.0         21.0    N   \n",
       "\n",
       "    verified_purchase  \n",
       "65                  Y  \n",
       "159                 Y  \n",
       "603                 Y  \n",
       "655                 Y  \n",
       "935                 Y  "
      ]
     },
     "execution_count": 7,
     "metadata": {},
     "output_type": "execute_result"
    }
   ],
   "source": [
    "# filter previous df to include only reviews with high helpful vote rating\n",
    "helpful_vote_df = high_vote_df[(high_vote_df[\"helpful_votes\"]/high_vote_df[\"total_votes\"] >= 0.5)]\n",
    "helpful_vote_df.head()"
   ]
  },
  {
   "cell_type": "code",
   "execution_count": 9,
   "id": "83d6e23b",
   "metadata": {},
   "outputs": [
    {
     "data": {
      "text/html": [
       "<div>\n",
       "<style scoped>\n",
       "    .dataframe tbody tr th:only-of-type {\n",
       "        vertical-align: middle;\n",
       "    }\n",
       "\n",
       "    .dataframe tbody tr th {\n",
       "        vertical-align: top;\n",
       "    }\n",
       "\n",
       "    .dataframe thead th {\n",
       "        text-align: right;\n",
       "    }\n",
       "</style>\n",
       "<table border=\"1\" class=\"dataframe\">\n",
       "  <thead>\n",
       "    <tr style=\"text-align: right;\">\n",
       "      <th></th>\n",
       "      <th>review_id</th>\n",
       "      <th>star_rating</th>\n",
       "      <th>helpful_votes</th>\n",
       "      <th>total_votes</th>\n",
       "      <th>vine</th>\n",
       "      <th>verified_purchase</th>\n",
       "    </tr>\n",
       "  </thead>\n",
       "  <tbody>\n",
       "    <tr>\n",
       "      <th>30395</th>\n",
       "      <td>R3KPC0NBUDASX3</td>\n",
       "      <td>5.0</td>\n",
       "      <td>25.0</td>\n",
       "      <td>25.0</td>\n",
       "      <td>Y</td>\n",
       "      <td>N</td>\n",
       "    </tr>\n",
       "    <tr>\n",
       "      <th>206171</th>\n",
       "      <td>R119P2A95GGXX4</td>\n",
       "      <td>5.0</td>\n",
       "      <td>26.0</td>\n",
       "      <td>28.0</td>\n",
       "      <td>Y</td>\n",
       "      <td>N</td>\n",
       "    </tr>\n",
       "    <tr>\n",
       "      <th>222172</th>\n",
       "      <td>R1HKIRME8AJ89Z</td>\n",
       "      <td>5.0</td>\n",
       "      <td>79.0</td>\n",
       "      <td>82.0</td>\n",
       "      <td>Y</td>\n",
       "      <td>N</td>\n",
       "    </tr>\n",
       "    <tr>\n",
       "      <th>281437</th>\n",
       "      <td>R3FY3GMBGOBR22</td>\n",
       "      <td>5.0</td>\n",
       "      <td>12.0</td>\n",
       "      <td>20.0</td>\n",
       "      <td>Y</td>\n",
       "      <td>N</td>\n",
       "    </tr>\n",
       "    <tr>\n",
       "      <th>287862</th>\n",
       "      <td>R15KH3FBSVYGBU</td>\n",
       "      <td>5.0</td>\n",
       "      <td>32.0</td>\n",
       "      <td>37.0</td>\n",
       "      <td>Y</td>\n",
       "      <td>N</td>\n",
       "    </tr>\n",
       "  </tbody>\n",
       "</table>\n",
       "</div>"
      ],
      "text/plain": [
       "             review_id  star_rating  helpful_votes  total_votes vine  \\\n",
       "30395   R3KPC0NBUDASX3          5.0           25.0         25.0    Y   \n",
       "206171  R119P2A95GGXX4          5.0           26.0         28.0    Y   \n",
       "222172  R1HKIRME8AJ89Z          5.0           79.0         82.0    Y   \n",
       "281437  R3FY3GMBGOBR22          5.0           12.0         20.0    Y   \n",
       "287862  R15KH3FBSVYGBU          5.0           32.0         37.0    Y   \n",
       "\n",
       "       verified_purchase  \n",
       "30395                  N  \n",
       "206171                 N  \n",
       "222172                 N  \n",
       "281437                 N  \n",
       "287862                 N  "
      ]
     },
     "execution_count": 9,
     "metadata": {},
     "output_type": "execute_result"
    }
   ],
   "source": [
    "# filter previous df to include only reviews paid from the Vine program (vine = Y)\n",
    "vine_Y_df = helpful_vote_df[helpful_vote_df[\"vine\"] == \"Y\"]\n",
    "vine_Y_df.head()"
   ]
  },
  {
   "cell_type": "code",
   "execution_count": 12,
   "id": "4be03f89",
   "metadata": {},
   "outputs": [
    {
     "data": {
      "text/html": [
       "<div>\n",
       "<style scoped>\n",
       "    .dataframe tbody tr th:only-of-type {\n",
       "        vertical-align: middle;\n",
       "    }\n",
       "\n",
       "    .dataframe tbody tr th {\n",
       "        vertical-align: top;\n",
       "    }\n",
       "\n",
       "    .dataframe thead th {\n",
       "        text-align: right;\n",
       "    }\n",
       "</style>\n",
       "<table border=\"1\" class=\"dataframe\">\n",
       "  <thead>\n",
       "    <tr style=\"text-align: right;\">\n",
       "      <th></th>\n",
       "      <th>review_id</th>\n",
       "      <th>star_rating</th>\n",
       "      <th>helpful_votes</th>\n",
       "      <th>total_votes</th>\n",
       "      <th>vine</th>\n",
       "      <th>verified_purchase</th>\n",
       "    </tr>\n",
       "  </thead>\n",
       "  <tbody>\n",
       "    <tr>\n",
       "      <th>65</th>\n",
       "      <td>R2FP3U4NHNFNL2</td>\n",
       "      <td>5.0</td>\n",
       "      <td>25.0</td>\n",
       "      <td>29.0</td>\n",
       "      <td>N</td>\n",
       "      <td>Y</td>\n",
       "    </tr>\n",
       "    <tr>\n",
       "      <th>159</th>\n",
       "      <td>R1UUK1977O38MU</td>\n",
       "      <td>5.0</td>\n",
       "      <td>31.0</td>\n",
       "      <td>31.0</td>\n",
       "      <td>N</td>\n",
       "      <td>Y</td>\n",
       "    </tr>\n",
       "    <tr>\n",
       "      <th>603</th>\n",
       "      <td>RXO216LWUDV6O</td>\n",
       "      <td>3.0</td>\n",
       "      <td>29.0</td>\n",
       "      <td>31.0</td>\n",
       "      <td>N</td>\n",
       "      <td>Y</td>\n",
       "    </tr>\n",
       "    <tr>\n",
       "      <th>655</th>\n",
       "      <td>R3NMJF7EBMM19V</td>\n",
       "      <td>3.0</td>\n",
       "      <td>26.0</td>\n",
       "      <td>27.0</td>\n",
       "      <td>N</td>\n",
       "      <td>Y</td>\n",
       "    </tr>\n",
       "    <tr>\n",
       "      <th>935</th>\n",
       "      <td>R2ZY0ZBDUO0XUY</td>\n",
       "      <td>3.0</td>\n",
       "      <td>20.0</td>\n",
       "      <td>21.0</td>\n",
       "      <td>N</td>\n",
       "      <td>Y</td>\n",
       "    </tr>\n",
       "  </tbody>\n",
       "</table>\n",
       "</div>"
      ],
      "text/plain": [
       "          review_id  star_rating  helpful_votes  total_votes vine  \\\n",
       "65   R2FP3U4NHNFNL2          5.0           25.0         29.0    N   \n",
       "159  R1UUK1977O38MU          5.0           31.0         31.0    N   \n",
       "603   RXO216LWUDV6O          3.0           29.0         31.0    N   \n",
       "655  R3NMJF7EBMM19V          3.0           26.0         27.0    N   \n",
       "935  R2ZY0ZBDUO0XUY          3.0           20.0         21.0    N   \n",
       "\n",
       "    verified_purchase  \n",
       "65                  Y  \n",
       "159                 Y  \n",
       "603                 Y  \n",
       "655                 Y  \n",
       "935                 Y  "
      ]
     },
     "execution_count": 12,
     "metadata": {},
     "output_type": "execute_result"
    }
   ],
   "source": [
    "# all unpaid reviews (vine = N)\n",
    "vine_N_df = helpful_vote_df[helpful_vote_df[\"vine\"] == \"N\"]\n",
    "vine_N_df.head()"
   ]
  },
  {
   "cell_type": "markdown",
   "id": "eba491a1",
   "metadata": {},
   "source": [
    "### Step 5\n",
    "Determine the total number of reviews, the number of 5-star reviews, and the percentage of 5-star reviews for the two types of review (paid vs unpaid)"
   ]
  },
  {
   "cell_type": "code",
   "execution_count": 16,
   "id": "f1123f05",
   "metadata": {},
   "outputs": [
    {
     "data": {
      "text/plain": [
       "56"
      ]
     },
     "execution_count": 16,
     "metadata": {},
     "output_type": "execute_result"
    }
   ],
   "source": [
    "# Paid reviews with 5 star rating\n",
    "paid_5star_reviews = vine_Y_df.loc[vine_Y_df[\"star_rating\"] == 5][\"star_rating\"].count()\n",
    "paid_5star_reviews"
   ]
  },
  {
   "cell_type": "code",
   "execution_count": 17,
   "id": "72ef3bba",
   "metadata": {},
   "outputs": [
    {
     "data": {
      "text/plain": [
       "107"
      ]
     },
     "execution_count": 17,
     "metadata": {},
     "output_type": "execute_result"
    }
   ],
   "source": [
    "# total paid review count\n",
    "paid_reviews = vine_Y_df[\"star_rating\"].count()\n",
    "paid_reviews"
   ]
  },
  {
   "cell_type": "code",
   "execution_count": 27,
   "id": "53fa9e7d",
   "metadata": {},
   "outputs": [
    {
     "name": "stdout",
     "output_type": "stream",
     "text": [
      "52.34% of paid reviews had a 5-star rating\n"
     ]
    }
   ],
   "source": [
    "# percentage of 5-star paid reviews\n",
    "percent_5star_paid_reviews = round((paid_5star_review / paid_reviews) * 100,2)\n",
    "print(f'{percent_5star_paid_reviews}% of paid reviews had a 5-star rating')"
   ]
  },
  {
   "cell_type": "markdown",
   "id": "f306dc2e",
   "metadata": {},
   "source": [
    "### step 5b - unpaid reviews"
   ]
  },
  {
   "cell_type": "code",
   "execution_count": 24,
   "id": "15517676",
   "metadata": {},
   "outputs": [
    {
     "data": {
      "text/plain": [
       "21005"
      ]
     },
     "execution_count": 24,
     "metadata": {},
     "output_type": "execute_result"
    }
   ],
   "source": [
    "# unpaid reviews with 5 star rating\n",
    "unpaid_5star_reviews = vine_N_df.loc[vine_N_df[\"star_rating\"] == 5][\"star_rating\"].count()\n",
    "unpaid_5star_reviews"
   ]
  },
  {
   "cell_type": "code",
   "execution_count": 25,
   "id": "84720505",
   "metadata": {},
   "outputs": [
    {
     "data": {
      "text/plain": [
       "39869"
      ]
     },
     "execution_count": 25,
     "metadata": {},
     "output_type": "execute_result"
    }
   ],
   "source": [
    "# total unpaid review count\n",
    "unpaid_reviews = vine_N_df[\"star_rating\"].count()\n",
    "unpaid_reviews"
   ]
  },
  {
   "cell_type": "code",
   "execution_count": 28,
   "id": "3813c5fd",
   "metadata": {},
   "outputs": [
    {
     "name": "stdout",
     "output_type": "stream",
     "text": [
      "52.69% of unpaid reviews had a 5-star rating\n"
     ]
    }
   ],
   "source": [
    "# percentage of 5-star unpaid reviews\n",
    "percent_5star_reviews_unpaid = round((unpaid_5star_reviews / unpaid_reviews) * 100,2)\n",
    "print(f'{percent_5star_reviews_unpaid}% of unpaid reviews had a 5-star rating')"
   ]
  },
  {
   "cell_type": "code",
   "execution_count": null,
   "id": "bc0cbdaf",
   "metadata": {},
   "outputs": [],
   "source": []
  }
 ],
 "metadata": {
  "kernelspec": {
   "display_name": "pythondata",
   "language": "python",
   "name": "pythondata"
  },
  "language_info": {
   "codemirror_mode": {
    "name": "ipython",
    "version": 3
   },
   "file_extension": ".py",
   "mimetype": "text/x-python",
   "name": "python",
   "nbconvert_exporter": "python",
   "pygments_lexer": "ipython3",
   "version": "3.7.10"
  }
 },
 "nbformat": 4,
 "nbformat_minor": 5
}
